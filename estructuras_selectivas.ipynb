{
  "nbformat": 4,
  "nbformat_minor": 0,
  "metadata": {
    "colab": {
      "provenance": [],
      "authorship_tag": "ABX9TyP+tn+Jnj7dZV+B7oPgmJKt",
      "include_colab_link": true
    },
    "kernelspec": {
      "name": "python3",
      "display_name": "Python 3"
    },
    "language_info": {
      "name": "python"
    }
  },
  "cells": [
    {
      "cell_type": "markdown",
      "metadata": {
        "id": "view-in-github",
        "colab_type": "text"
      },
      "source": [
        "<a href=\"https://colab.research.google.com/github/AlejandraL2009/estructuras-selectivas/blob/main/estructuras_selectivas.ipynb\" target=\"_parent\"><img src=\"https://colab.research.google.com/assets/colab-badge.svg\" alt=\"Open In Colab\"/></a>"
      ]
    },
    {
      "cell_type": "markdown",
      "source": [
        "#Examen 4: Estructuras Secuenciales\n",
        "**Curso:** Fundamentos de Programación\n",
        "\n",
        "**Presentado por:** Alejandra Lopera y Dylan Carmona\n",
        "\n",
        "**Email:** alelopera2009@gmail.com , carmonadylan326@gmail.com\n",
        "\n",
        "**Fecha:** 3/10/2025\n"
      ],
      "metadata": {
        "id": "_VB7HeoPlcX8"
      }
    },
    {
      "cell_type": "markdown",
      "source": [
        "##1. Días de la Semana\n",
        "\n",
        "Diseña un programa que solicite al usuario ingresar un número dentro del rango de 1 a 7. El programa\n",
        "debe mostrar el día de la semana correspondiente (1 = Lunes, 2 = Martes, …, 7 = Domingo).\n",
        "Si el número está fuera del rango, el programa debe mostrar un mensaje de error.\n",
        "\n",
        "##pseudocodigo\n",
        "\n",
        "program dias_semanas\n",
        "start\n",
        "     declare integer numero\n",
        "     \n",
        "\n",
        "     display\"programa que solicite un numero entre 1 a 7\"\n",
        "     Display \"ingrese un numero: \"\n",
        "     input numero\n",
        "     \n",
        "     if nuemero == 1 then\n",
        "        display \" lunes\"\n",
        "     if numero == 2 then\n",
        "        display \"martes\"\n",
        "     if numero == 3 then\n",
        "        display \"miercoles\"\n",
        "     if numero == 4 then\n",
        "        display \"jueves\"\n",
        "     if numero == 5  then\n",
        "        display \"viernes\"\n",
        "     if numero == 6 then\n",
        "        display \"sabado\"\n",
        "     if  numero == 7 then\n",
        "        display \"domingo\"\n",
        "\n",
        "     else if\n",
        "         display \"error\"\n",
        "\n",
        "        end if\n",
        "  end"
      ],
      "metadata": {
        "id": "_vwajeOtBBNo"
      }
    },
    {
      "cell_type": "code",
      "source": [
        "# diseñar programa que me pida un numero del 1 al 7\n",
        "\n",
        "\n",
        "\n",
        "\n",
        "numero = float(input(\"ingrese un numero: \"))\n",
        "\n",
        " # si el numero esta afuera del rango\n",
        "\n",
        "if numero == 1:\n",
        "  print(\" lunes\")\n",
        "elif numero == 2:\n",
        "  print(\"martes\")\n",
        "elif numero == 3:\n",
        "  print(\"miercoles\")\n",
        "elif numero == 4:\n",
        "  print(\"jueves\")\n",
        "elif numero == 5:\n",
        "  print(\"viernes\")\n",
        "elif numero == 6:\n",
        "  print(\"sabado\")\n",
        "elif numero == 7:\n",
        "  print(\"domingo\")\n",
        "\n",
        "else:\n",
        "     print(\"error\")"
      ],
      "metadata": {
        "colab": {
          "base_uri": "https://localhost:8080/"
        },
        "id": "KSLqnrBNBZrm",
        "outputId": "056070ce-b604-4de9-81a7-f972cbc168d1"
      },
      "execution_count": null,
      "outputs": [
        {
          "output_type": "stream",
          "name": "stdout",
          "text": [
            "ingrese un numero: 3\n",
            "miercoles\n"
          ]
        }
      ]
    },
    {
      "cell_type": "markdown",
      "source": [
        "## Evaluación de Velocidad\n",
        "\n",
        "Diseña un programa que solicite al usuario ingresar la distancia recorrida (en metros) y el tiempo empleado (en segundos) por un vehículo. La velocidad se puede calcular utilizando la siguiente fórmula:\n",
        "\n",
        "𝑣 = 𝑑*𝑡\n",
        "\n",
        "Si la velocidad es mayor a 120 km/h, el programa debe mostrar un mensaje indicando que el vehículo va demasiado rápido. Si la velocidad es menor a 20 km/h, mostrar un mensaje indicando que el vehículo va demasiado lento. En los demás casos, mostrar la velocidad calculada en km/h.\n",
        "\n",
        "Nota: tenga en cuenta que 1 kilómetro (km) son 1000 metros (m) y una hora (h) son 3600 segundos\n",
        "(s).\n",
        "\n",
        "##Pseudocodigo\n",
        "\n",
        "```\n",
        "Start Program evaluate_speed\n",
        "  Declare real speed, distance, time, final_distance, final_time\n",
        "\n",
        "\n",
        "  Display \"Programa para calcula y evaluar la velocidad de un vehiculo\"\n",
        "  Display \"Ingrese la distancia recorrida por el vehiculo en metros: \"\n",
        "  Input distance\n",
        "  set final_distance = distance /1000\n",
        "  Display \" Ingrese el tiempo empleado por el vehiculo en segundos: \"\n",
        "  Input time\n",
        "  set final_time = time/3600\n",
        "  set speed = kilometers * hours\n",
        "  \n",
        "  if speed > 120 then\n",
        "  Display \"Demasiado rapido\"\n",
        "  if speed < 20 then\n",
        "  Display \"Demasiado lento\"\n",
        "  else if\n",
        "  Display \"La velocidad es de: \", speed\n",
        "  \n",
        "  end if\n",
        "\n",
        "End\n",
        "```"
      ],
      "metadata": {
        "id": "YkCuO8dElGZ0"
      }
    },
    {
      "cell_type": "code",
      "source": [
        "#Programa para evaluar la veocidad de un vehiculo\n",
        "print(\"Programa para evaluar la velocidad de un vehiculo\")\n",
        "distance = (float(input(\"Ingrese la distancia recorrida por el vehiculo: \")))\n",
        "kilometers = distance/1000\n",
        "time = (float(input(\"Ingrese el tiempo empleado por el vehiculo: \")))\n",
        "hours = time/3600\n",
        "speed = kilometers * hours\n",
        "if speed > 120:\n",
        "  print(\"Demasiado rapido\")\n",
        "elif speed < 20:\n",
        "  print(\"demasiado lento\")\n",
        "else:\n",
        "  print(\"La velocidad es de: \", speed)\n",
        "\n",
        "\n",
        "\n",
        "\n"
      ],
      "metadata": {
        "colab": {
          "base_uri": "https://localhost:8080/"
        },
        "id": "1ARE8ztynJhA",
        "outputId": "4314b476-ff67-4b64-b702-e4221d0fb4ae"
      },
      "execution_count": null,
      "outputs": [
        {
          "output_type": "stream",
          "name": "stdout",
          "text": [
            "Programa para evaluar la velocidad de un vehiculo\n",
            "Ingrese la distancia recorrida por el vehiculo: 400000\n",
            "Ingrese el tiempo empleado por el vehiculo: 200000\n",
            "Demasiado rapido\n"
          ]
        }
      ]
    },
    {
      "cell_type": "markdown",
      "source": [
        "## Cálculo del total a pagar en la compra de grava\n",
        "Un almacén de materiales de construcción especializada en grava vende la grava por latas, cada una con un peso aproximado de 30.6 kg. Su política de venta es la siguiente:\n",
        "\n",
        "• Si el cliente compra más de 10 latas, se aplica un 10% de descuento en el total de la venta.\n",
        "\n",
        "• Si compra más de 30 latas, el transporte es gratis.\n",
        "\n",
        "• El costo del transporte es fijo: $65,000 COP.\n",
        "\n",
        "• El precio de cada lata de grava es de $12,900 COP.\n",
        "\n",
        "El programa debe calcular el total a pagar (incluyendo transporte), dado un número de latas a comprar.\n",
        "\n",
        "##Psedocodigo\n",
        "\n",
        "```\n",
        "start\n",
        "  declare real total, subtotal\n",
        "  constant real transporte = 65000\n",
        "  constant real lata = 12900\n",
        "  \n",
        "  Display \"Programa para calcular el total a pagar en la compra de grava\"\n",
        "  Display \"Ingrese la cantidad de latas compradas: \"\n",
        "  Input cantidad\n",
        "  \n",
        "  set subtotal = transporte + (lata*cantidad)\n",
        "\n",
        "  if cantidad > 10 then\n",
        "  set total = subtotal - (subtotal*0.10)\n",
        "  Display \"La cantidad a pagar es de: \", total\n",
        "\n",
        "  if cantidad > 30 then\n",
        "  set total = subtotal - transporte\n",
        "  Display \"La cantdiad a pagar es de: \", total\n",
        "\n",
        "  else if\n",
        "  Display \"El costo a pagar es de: \", subtotal\n",
        "\n",
        "  End if\n",
        "\n",
        "End\n",
        "```"
      ],
      "metadata": {
        "id": "WXRRup9rqyvL"
      }
    },
    {
      "cell_type": "code",
      "source": [
        "#Programa para calcular el total a pagar en la compra de grava\n",
        "print(\"Programa para calcular el total a pagar en la compra de grava\")\n",
        "cantidad = float(input(\"Ingrese la cantidad de latas compradas: \"))\n",
        "transporte = 65000\n",
        "lata = 12900\n",
        "subtotal = transporte + (lata*cantidad)\n",
        "if cantidad > 10:\n",
        "  total = subtotal-(subtotal*0.10)\n",
        "  print(\"El costo a pagar es de: \", total)\n",
        "elif cantidad > 30:\n",
        "  total = subtotal - transporte\n",
        "  print(\"El costo a pagar es de\", total)\n",
        "else:\n",
        "  print(\"El costo a pagar es de: \", subtotal)"
      ],
      "metadata": {
        "colab": {
          "base_uri": "https://localhost:8080/"
        },
        "id": "33hZFn5nzL52",
        "outputId": "f800593d-0055-448c-855b-3da14a2596b1"
      },
      "execution_count": null,
      "outputs": [
        {
          "output_type": "stream",
          "name": "stdout",
          "text": [
            "Programa para calcular el total a pagar en la compra de grava\n",
            "Ingrese la cantidad de latas compradas: 30\n",
            "El costo a pagar es de:  406800.0\n"
          ]
        }
      ]
    }
  ]
}